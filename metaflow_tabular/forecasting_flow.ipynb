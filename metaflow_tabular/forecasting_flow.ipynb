{
 "cells": [
  {
   "cell_type": "code",
   "execution_count": 34,
   "id": "3b277b66-0b4f-4472-93bd-713df7049986",
   "metadata": {},
   "outputs": [],
   "source": [
    "%matplotlib inline\n",
    "\n",
    "from metaflow import Metaflow, Flow, get_metadata, namespace\n",
    "import pandas as pd\n",
    "import seaborn as sns\n",
    "\n",
    "sns.set(font_scale=1., rc={'figure.figsize':(11.7,8.27)})\n",
    "\n",
    "# Set namespace to None to search over all namespaces\n",
    "namespace(None)"
   ]
  },
  {
   "cell_type": "code",
   "execution_count": 2,
   "id": "2a5ce00b-772b-4e88-9906-ad16f4e723d9",
   "metadata": {},
   "outputs": [
    {
     "name": "stdout",
     "output_type": "stream",
     "text": [
      "Current metadata provider: local@/home/jimmie/git/metaflow-tabular/metaflow_tabular\n"
     ]
    }
   ],
   "source": [
    "print(\"Current metadata provider: %s\" % get_metadata())"
   ]
  },
  {
   "cell_type": "code",
   "execution_count": 3,
   "id": "06338041-d47b-4382-8000-c89820d4e078",
   "metadata": {},
   "outputs": [
    {
     "data": {
      "text/plain": [
       "[Flow('ForecastingFlow')]"
      ]
     },
     "execution_count": 3,
     "metadata": {},
     "output_type": "execute_result"
    }
   ],
   "source": [
    "flows = list(Metaflow())\n",
    "flows"
   ]
  },
  {
   "cell_type": "code",
   "execution_count": 4,
   "id": "4d6274f6-c163-4757-b62f-eed56544a6bf",
   "metadata": {},
   "outputs": [
    {
     "name": "stdout",
     "output_type": "stream",
     "text": [
      "ForecastingFlow, last run: 2021-12-03 15:22:10.031000, successful: True\n"
     ]
    }
   ],
   "source": [
    "# Set namespace to None to search over all namespaces\n",
    "namespace(None)\n",
    "for flow in Metaflow():\n",
    "    run = flow.latest_run\n",
    "    print(f\"{flow.id}, last run: {run.finished_at}, successful: {run.successful}\")"
   ]
  },
  {
   "cell_type": "code",
   "execution_count": 5,
   "id": "725bd5c8-372e-4c6b-8e55-63aab9e68718",
   "metadata": {},
   "outputs": [
    {
     "data": {
      "text/plain": [
       "{'_metaflow': <metaflow.client.core.Metaflow at 0x7f5838314ac0>,\n",
       " '_parent': None,\n",
       " '_path_components': ['ForecastingFlow'],\n",
       " '_attempt': None,\n",
       " '_object': {'flow_id': 'ForecastingFlow', 'ts_epoch': 1638481175966},\n",
       " '_pathspec': 'ForecastingFlow',\n",
       " 'id': 'ForecastingFlow',\n",
       " '_created_at': datetime.datetime(2021, 12, 2, 15, 39, 35, 966000),\n",
       " '_tags': frozenset()}"
      ]
     },
     "execution_count": 5,
     "metadata": {},
     "output_type": "execute_result"
    }
   ],
   "source": [
    "vars(flow)"
   ]
  },
  {
   "cell_type": "code",
   "execution_count": 6,
   "id": "4edc309d-c726-48e4-8d9b-89ef903623b6",
   "metadata": {},
   "outputs": [],
   "source": [
    "from collections import OrderedDict"
   ]
  },
  {
   "cell_type": "code",
   "execution_count": 7,
   "id": "6e9c2f41-00a1-43e6-b7b0-e7668ffaa547",
   "metadata": {},
   "outputs": [],
   "source": [
    "def run_to_dict(flow):\n",
    "    d = OrderedDict()\n",
    "    for attr in ('id', 'created_at', 'finished_at', 'successful'):\n",
    "        d[attr] = getattr(flow, attr)\n",
    "    for tag in sorted(list(run.tags)):\n",
    "        key, val = tag.split(':')\n",
    "        d['tag_%s' % key] = val\n",
    "    return d"
   ]
  },
  {
   "cell_type": "code",
   "execution_count": 8,
   "id": "a3176f3d-78ba-48b3-841c-bb3596d67410",
   "metadata": {},
   "outputs": [],
   "source": [
    "flow = Flow('ForecastingFlow')\n",
    "runs =  list(flow.runs())"
   ]
  },
  {
   "cell_type": "code",
   "execution_count": 9,
   "id": "e4edc24f-6f4f-4b85-a584-65254564e89f",
   "metadata": {},
   "outputs": [
    {
     "data": {
      "text/plain": [
       "77"
      ]
     },
     "execution_count": 9,
     "metadata": {},
     "output_type": "execute_result"
    }
   ],
   "source": [
    "len(runs)"
   ]
  },
  {
   "cell_type": "code",
   "execution_count": 10,
   "id": "d87ecedf-5628-4a54-95ed-fbf8d3f0513b",
   "metadata": {},
   "outputs": [
    {
     "data": {
      "text/html": [
       "<div>\n",
       "<style scoped>\n",
       "    .dataframe tbody tr th:only-of-type {\n",
       "        vertical-align: middle;\n",
       "    }\n",
       "\n",
       "    .dataframe tbody tr th {\n",
       "        vertical-align: top;\n",
       "    }\n",
       "\n",
       "    .dataframe thead th {\n",
       "        text-align: right;\n",
       "    }\n",
       "</style>\n",
       "<table border=\"1\" class=\"dataframe\">\n",
       "  <thead>\n",
       "    <tr style=\"text-align: right;\">\n",
       "      <th></th>\n",
       "      <th>id</th>\n",
       "      <th>created_at</th>\n",
       "      <th>finished_at</th>\n",
       "      <th>successful</th>\n",
       "      <th>tag_date</th>\n",
       "      <th>tag_metaflow_version</th>\n",
       "      <th>tag_python_version</th>\n",
       "      <th>tag_runtime</th>\n",
       "      <th>tag_user</th>\n",
       "    </tr>\n",
       "  </thead>\n",
       "  <tbody>\n",
       "    <tr>\n",
       "      <th>0</th>\n",
       "      <td>1638566495748360</td>\n",
       "      <td>2021-12-03 15:21:35.749</td>\n",
       "      <td>2021-12-03 15:22:10.031</td>\n",
       "      <td>True</td>\n",
       "      <td>2021-12-03</td>\n",
       "      <td>2.4.3.post11+git421e9d9</td>\n",
       "      <td>3.8.12</td>\n",
       "      <td>dev</td>\n",
       "      <td>jimmie</td>\n",
       "    </tr>\n",
       "    <tr>\n",
       "      <th>1</th>\n",
       "      <td>1638566258055679</td>\n",
       "      <td>2021-12-03 15:17:38.056</td>\n",
       "      <td>2021-12-03 15:17:49.260</td>\n",
       "      <td>True</td>\n",
       "      <td>2021-12-03</td>\n",
       "      <td>2.4.3.post11+git421e9d9</td>\n",
       "      <td>3.8.12</td>\n",
       "      <td>dev</td>\n",
       "      <td>jimmie</td>\n",
       "    </tr>\n",
       "    <tr>\n",
       "      <th>2</th>\n",
       "      <td>1638566211649092</td>\n",
       "      <td>2021-12-03 15:16:51.649</td>\n",
       "      <td>2021-12-03 15:17:02.765</td>\n",
       "      <td>True</td>\n",
       "      <td>2021-12-03</td>\n",
       "      <td>2.4.3.post11+git421e9d9</td>\n",
       "      <td>3.8.12</td>\n",
       "      <td>dev</td>\n",
       "      <td>jimmie</td>\n",
       "    </tr>\n",
       "    <tr>\n",
       "      <th>3</th>\n",
       "      <td>1638566007926268</td>\n",
       "      <td>2021-12-03 15:13:27.927</td>\n",
       "      <td>NaT</td>\n",
       "      <td>False</td>\n",
       "      <td>2021-12-03</td>\n",
       "      <td>2.4.3.post11+git421e9d9</td>\n",
       "      <td>3.8.12</td>\n",
       "      <td>dev</td>\n",
       "      <td>jimmie</td>\n",
       "    </tr>\n",
       "    <tr>\n",
       "      <th>4</th>\n",
       "      <td>1638565683523232</td>\n",
       "      <td>2021-12-03 15:08:03.524</td>\n",
       "      <td>NaT</td>\n",
       "      <td>False</td>\n",
       "      <td>2021-12-03</td>\n",
       "      <td>2.4.3.post11+git421e9d9</td>\n",
       "      <td>3.8.12</td>\n",
       "      <td>dev</td>\n",
       "      <td>jimmie</td>\n",
       "    </tr>\n",
       "    <tr>\n",
       "      <th>...</th>\n",
       "      <td>...</td>\n",
       "      <td>...</td>\n",
       "      <td>...</td>\n",
       "      <td>...</td>\n",
       "      <td>...</td>\n",
       "      <td>...</td>\n",
       "      <td>...</td>\n",
       "      <td>...</td>\n",
       "      <td>...</td>\n",
       "    </tr>\n",
       "    <tr>\n",
       "      <th>72</th>\n",
       "      <td>1638483926306063</td>\n",
       "      <td>2021-12-02 16:25:26.306</td>\n",
       "      <td>2021-12-02 16:25:53.952</td>\n",
       "      <td>True</td>\n",
       "      <td>2021-12-03</td>\n",
       "      <td>2.4.3.post11+git421e9d9</td>\n",
       "      <td>3.8.12</td>\n",
       "      <td>dev</td>\n",
       "      <td>jimmie</td>\n",
       "    </tr>\n",
       "    <tr>\n",
       "      <th>73</th>\n",
       "      <td>1638483264133237</td>\n",
       "      <td>2021-12-02 16:14:24.134</td>\n",
       "      <td>2021-12-02 16:14:51.297</td>\n",
       "      <td>True</td>\n",
       "      <td>2021-12-03</td>\n",
       "      <td>2.4.3.post11+git421e9d9</td>\n",
       "      <td>3.8.12</td>\n",
       "      <td>dev</td>\n",
       "      <td>jimmie</td>\n",
       "    </tr>\n",
       "    <tr>\n",
       "      <th>74</th>\n",
       "      <td>1638481471294991</td>\n",
       "      <td>2021-12-02 15:44:31.295</td>\n",
       "      <td>2021-12-02 15:45:01.017</td>\n",
       "      <td>True</td>\n",
       "      <td>2021-12-03</td>\n",
       "      <td>2.4.3.post11+git421e9d9</td>\n",
       "      <td>3.8.12</td>\n",
       "      <td>dev</td>\n",
       "      <td>jimmie</td>\n",
       "    </tr>\n",
       "    <tr>\n",
       "      <th>75</th>\n",
       "      <td>1638481429382957</td>\n",
       "      <td>2021-12-02 15:43:49.383</td>\n",
       "      <td>NaT</td>\n",
       "      <td>False</td>\n",
       "      <td>2021-12-03</td>\n",
       "      <td>2.4.3.post11+git421e9d9</td>\n",
       "      <td>3.8.12</td>\n",
       "      <td>dev</td>\n",
       "      <td>jimmie</td>\n",
       "    </tr>\n",
       "    <tr>\n",
       "      <th>76</th>\n",
       "      <td>1638481175966173</td>\n",
       "      <td>2021-12-02 15:39:35.967</td>\n",
       "      <td>NaT</td>\n",
       "      <td>False</td>\n",
       "      <td>2021-12-03</td>\n",
       "      <td>2.4.3.post11+git421e9d9</td>\n",
       "      <td>3.8.12</td>\n",
       "      <td>dev</td>\n",
       "      <td>jimmie</td>\n",
       "    </tr>\n",
       "  </tbody>\n",
       "</table>\n",
       "<p>77 rows × 9 columns</p>\n",
       "</div>"
      ],
      "text/plain": [
       "                  id              created_at             finished_at  \\\n",
       "0   1638566495748360 2021-12-03 15:21:35.749 2021-12-03 15:22:10.031   \n",
       "1   1638566258055679 2021-12-03 15:17:38.056 2021-12-03 15:17:49.260   \n",
       "2   1638566211649092 2021-12-03 15:16:51.649 2021-12-03 15:17:02.765   \n",
       "3   1638566007926268 2021-12-03 15:13:27.927                     NaT   \n",
       "4   1638565683523232 2021-12-03 15:08:03.524                     NaT   \n",
       "..               ...                     ...                     ...   \n",
       "72  1638483926306063 2021-12-02 16:25:26.306 2021-12-02 16:25:53.952   \n",
       "73  1638483264133237 2021-12-02 16:14:24.134 2021-12-02 16:14:51.297   \n",
       "74  1638481471294991 2021-12-02 15:44:31.295 2021-12-02 15:45:01.017   \n",
       "75  1638481429382957 2021-12-02 15:43:49.383                     NaT   \n",
       "76  1638481175966173 2021-12-02 15:39:35.967                     NaT   \n",
       "\n",
       "    successful    tag_date     tag_metaflow_version tag_python_version  \\\n",
       "0         True  2021-12-03  2.4.3.post11+git421e9d9             3.8.12   \n",
       "1         True  2021-12-03  2.4.3.post11+git421e9d9             3.8.12   \n",
       "2         True  2021-12-03  2.4.3.post11+git421e9d9             3.8.12   \n",
       "3        False  2021-12-03  2.4.3.post11+git421e9d9             3.8.12   \n",
       "4        False  2021-12-03  2.4.3.post11+git421e9d9             3.8.12   \n",
       "..         ...         ...                      ...                ...   \n",
       "72        True  2021-12-03  2.4.3.post11+git421e9d9             3.8.12   \n",
       "73        True  2021-12-03  2.4.3.post11+git421e9d9             3.8.12   \n",
       "74        True  2021-12-03  2.4.3.post11+git421e9d9             3.8.12   \n",
       "75       False  2021-12-03  2.4.3.post11+git421e9d9             3.8.12   \n",
       "76       False  2021-12-03  2.4.3.post11+git421e9d9             3.8.12   \n",
       "\n",
       "   tag_runtime tag_user  \n",
       "0          dev   jimmie  \n",
       "1          dev   jimmie  \n",
       "2          dev   jimmie  \n",
       "3          dev   jimmie  \n",
       "4          dev   jimmie  \n",
       "..         ...      ...  \n",
       "72         dev   jimmie  \n",
       "73         dev   jimmie  \n",
       "74         dev   jimmie  \n",
       "75         dev   jimmie  \n",
       "76         dev   jimmie  \n",
       "\n",
       "[77 rows x 9 columns]"
      ]
     },
     "execution_count": 10,
     "metadata": {},
     "output_type": "execute_result"
    }
   ],
   "source": [
    "run_df = pd.DataFrame([run_to_dict(run) for run in runs])\n",
    "run_df"
   ]
  },
  {
   "cell_type": "code",
   "execution_count": 11,
   "id": "93d8f51b-2b15-45f8-8517-c29f1c824315",
   "metadata": {},
   "outputs": [],
   "source": [
    "# run = flow.latest_run\n",
    "# run"
   ]
  },
  {
   "cell_type": "code",
   "execution_count": 12,
   "id": "c946aafa-0a21-4df8-a5e7-251138477d2a",
   "metadata": {},
   "outputs": [
    {
     "data": {
      "text/plain": [
       "Run('ForecastingFlow/1638566495748360')"
      ]
     },
     "execution_count": 12,
     "metadata": {},
     "output_type": "execute_result"
    }
   ],
   "source": [
    "run = flow.latest_successful_run\n",
    "run"
   ]
  },
  {
   "cell_type": "code",
   "execution_count": 13,
   "id": "1c10bc80-0732-4c91-b526-8b73c5513e9b",
   "metadata": {},
   "outputs": [
    {
     "data": {
      "text/plain": [
       "{'_metaflow': <metaflow.client.core.Metaflow at 0x7f57a9bc1910>,\n",
       " '_parent': Flow('ForecastingFlow'),\n",
       " '_path_components': ['ForecastingFlow', '1638566495748360'],\n",
       " '_attempt': None,\n",
       " '_object': {'run_number': '1638566495748360',\n",
       "  'flow_id': 'ForecastingFlow',\n",
       "  'user_name': 'jimmie',\n",
       "  'tags': [],\n",
       "  'system_tags': ['runtime:dev',\n",
       "   'metaflow_version:2.4.3.post11+git421e9d9',\n",
       "   'user:jimmie',\n",
       "   'date:2021-12-03',\n",
       "   'python_version:3.8.12'],\n",
       "  'ts_epoch': 1638566495749},\n",
       " '_pathspec': 'ForecastingFlow/1638566495748360',\n",
       " 'id': '1638566495748360',\n",
       " '_created_at': datetime.datetime(2021, 12, 3, 15, 21, 35, 749000),\n",
       " '_tags': frozenset({'date:2021-12-03',\n",
       "            'metaflow_version:2.4.3.post11+git421e9d9',\n",
       "            'python_version:3.8.12',\n",
       "            'runtime:dev',\n",
       "            'user:jimmie'})}"
      ]
     },
     "execution_count": 13,
     "metadata": {},
     "output_type": "execute_result"
    }
   ],
   "source": [
    "vars(run)"
   ]
  },
  {
   "cell_type": "code",
   "execution_count": 14,
   "id": "2df088ea-186b-42c7-ac42-d1fb74d526e1",
   "metadata": {},
   "outputs": [
    {
     "data": {
      "text/plain": [
       "<MetaflowData: name, test_path, model_config_path, forecasts, date_col, target_col, target_index, forecast_steps, train_path, test_df>"
      ]
     },
     "execution_count": 14,
     "metadata": {},
     "output_type": "execute_result"
    }
   ],
   "source": [
    "run.data"
   ]
  },
  {
   "cell_type": "code",
   "execution_count": 15,
   "id": "6b738197-3e49-4f5e-b9cf-53addcccd59c",
   "metadata": {},
   "outputs": [
    {
     "data": {
      "text/plain": [
       "('ForecastingFlow',\n",
       " 'https://jgoode.s3.amazonaws.com/ts-datasets/seattle-trail.csv')"
      ]
     },
     "execution_count": 15,
     "metadata": {},
     "output_type": "execute_result"
    }
   ],
   "source": [
    "run.data.name, run.data.train_path"
   ]
  },
  {
   "cell_type": "code",
   "execution_count": 16,
   "id": "94c36705-38c1-4328-ba2a-a18dd485597d",
   "metadata": {},
   "outputs": [
    {
     "data": {
      "text/html": [
       "<div>\n",
       "<style scoped>\n",
       "    .dataframe tbody tr th:only-of-type {\n",
       "        vertical-align: middle;\n",
       "    }\n",
       "\n",
       "    .dataframe tbody tr th {\n",
       "        vertical-align: top;\n",
       "    }\n",
       "\n",
       "    .dataframe thead th {\n",
       "        text-align: right;\n",
       "    }\n",
       "</style>\n",
       "<table border=\"1\" class=\"dataframe\">\n",
       "  <thead>\n",
       "    <tr style=\"text-align: right;\">\n",
       "      <th></th>\n",
       "      <th>merlion-Arima</th>\n",
       "      <th>merlion-Sarima</th>\n",
       "      <th>merlion-ets</th>\n",
       "      <th>merlion-MSES</th>\n",
       "      <th>merlion-VAR</th>\n",
       "      <th>merlion-RandomForest</th>\n",
       "      <th>merlion-ExtraTrees</th>\n",
       "      <th>merlion-LGBM</th>\n",
       "    </tr>\n",
       "  </thead>\n",
       "  <tbody>\n",
       "    <tr>\n",
       "      <th>0</th>\n",
       "      <td>27.308186</td>\n",
       "      <td>23.203602</td>\n",
       "      <td>27.987034</td>\n",
       "      <td>9.000000</td>\n",
       "      <td>2.112251e+01</td>\n",
       "      <td>17.23</td>\n",
       "      <td>18.76</td>\n",
       "      <td>11.691222</td>\n",
       "    </tr>\n",
       "    <tr>\n",
       "      <th>1</th>\n",
       "      <td>26.324369</td>\n",
       "      <td>18.641327</td>\n",
       "      <td>24.671506</td>\n",
       "      <td>-37.729558</td>\n",
       "      <td>-1.479530e+09</td>\n",
       "      <td>9.33</td>\n",
       "      <td>10.64</td>\n",
       "      <td>8.566090</td>\n",
       "    </tr>\n",
       "    <tr>\n",
       "      <th>2</th>\n",
       "      <td>29.697036</td>\n",
       "      <td>21.111877</td>\n",
       "      <td>24.143480</td>\n",
       "      <td>78.918495</td>\n",
       "      <td>4.809242e+08</td>\n",
       "      <td>4.78</td>\n",
       "      <td>6.04</td>\n",
       "      <td>4.711160</td>\n",
       "    </tr>\n",
       "    <tr>\n",
       "      <th>3</th>\n",
       "      <td>32.124913</td>\n",
       "      <td>23.372508</td>\n",
       "      <td>22.218796</td>\n",
       "      <td>59.918495</td>\n",
       "      <td>-4.769368e+15</td>\n",
       "      <td>2.42</td>\n",
       "      <td>2.88</td>\n",
       "      <td>4.171200</td>\n",
       "    </tr>\n",
       "    <tr>\n",
       "      <th>4</th>\n",
       "      <td>33.444328</td>\n",
       "      <td>25.696529</td>\n",
       "      <td>21.692141</td>\n",
       "      <td>34.918495</td>\n",
       "      <td>1.296853e+17</td>\n",
       "      <td>1.13</td>\n",
       "      <td>2.05</td>\n",
       "      <td>1.214129</td>\n",
       "    </tr>\n",
       "    <tr>\n",
       "      <th>5</th>\n",
       "      <td>33.551618</td>\n",
       "      <td>25.754337</td>\n",
       "      <td>22.910267</td>\n",
       "      <td>39.057679</td>\n",
       "      <td>-1.034308e+23</td>\n",
       "      <td>0.40</td>\n",
       "      <td>0.86</td>\n",
       "      <td>-0.031052</td>\n",
       "    </tr>\n",
       "    <tr>\n",
       "      <th>6</th>\n",
       "      <td>33.262583</td>\n",
       "      <td>25.611999</td>\n",
       "      <td>23.411709</td>\n",
       "      <td>10.268557</td>\n",
       "      <td>4.245118e+24</td>\n",
       "      <td>0.63</td>\n",
       "      <td>1.05</td>\n",
       "      <td>0.959697</td>\n",
       "    </tr>\n",
       "    <tr>\n",
       "      <th>7</th>\n",
       "      <td>32.933635</td>\n",
       "      <td>24.966983</td>\n",
       "      <td>23.358681</td>\n",
       "      <td>96.468395</td>\n",
       "      <td>-1.815380e+30</td>\n",
       "      <td>0.52</td>\n",
       "      <td>0.72</td>\n",
       "      <td>-0.076087</td>\n",
       "    </tr>\n",
       "    <tr>\n",
       "      <th>8</th>\n",
       "      <td>32.767229</td>\n",
       "      <td>25.820408</td>\n",
       "      <td>26.319372</td>\n",
       "      <td>103.468395</td>\n",
       "      <td>7.573097e+31</td>\n",
       "      <td>1.85</td>\n",
       "      <td>1.65</td>\n",
       "      <td>0.535694</td>\n",
       "    </tr>\n",
       "    <tr>\n",
       "      <th>9</th>\n",
       "      <td>32.730330</td>\n",
       "      <td>26.414087</td>\n",
       "      <td>28.457474</td>\n",
       "      <td>131.468395</td>\n",
       "      <td>-4.491779e+37</td>\n",
       "      <td>3.51</td>\n",
       "      <td>3.34</td>\n",
       "      <td>1.295170</td>\n",
       "    </tr>\n",
       "  </tbody>\n",
       "</table>\n",
       "</div>"
      ],
      "text/plain": [
       "   merlion-Arima  merlion-Sarima  merlion-ets  merlion-MSES   merlion-VAR  \\\n",
       "0      27.308186       23.203602    27.987034      9.000000  2.112251e+01   \n",
       "1      26.324369       18.641327    24.671506    -37.729558 -1.479530e+09   \n",
       "2      29.697036       21.111877    24.143480     78.918495  4.809242e+08   \n",
       "3      32.124913       23.372508    22.218796     59.918495 -4.769368e+15   \n",
       "4      33.444328       25.696529    21.692141     34.918495  1.296853e+17   \n",
       "5      33.551618       25.754337    22.910267     39.057679 -1.034308e+23   \n",
       "6      33.262583       25.611999    23.411709     10.268557  4.245118e+24   \n",
       "7      32.933635       24.966983    23.358681     96.468395 -1.815380e+30   \n",
       "8      32.767229       25.820408    26.319372    103.468395  7.573097e+31   \n",
       "9      32.730330       26.414087    28.457474    131.468395 -4.491779e+37   \n",
       "\n",
       "   merlion-RandomForest  merlion-ExtraTrees  merlion-LGBM  \n",
       "0                 17.23               18.76     11.691222  \n",
       "1                  9.33               10.64      8.566090  \n",
       "2                  4.78                6.04      4.711160  \n",
       "3                  2.42                2.88      4.171200  \n",
       "4                  1.13                2.05      1.214129  \n",
       "5                  0.40                0.86     -0.031052  \n",
       "6                  0.63                1.05      0.959697  \n",
       "7                  0.52                0.72     -0.076087  \n",
       "8                  1.85                1.65      0.535694  \n",
       "9                  3.51                3.34      1.295170  "
      ]
     },
     "execution_count": 16,
     "metadata": {},
     "output_type": "execute_result"
    }
   ],
   "source": [
    "forecasts = run.data.forecasts\n",
    "forecasts"
   ]
  },
  {
   "cell_type": "code",
   "execution_count": 17,
   "id": "31df04eb-9347-4050-bf91-f9637fbc9ef1",
   "metadata": {},
   "outputs": [
    {
     "data": {
      "text/html": [
       "<div>\n",
       "<style scoped>\n",
       "    .dataframe tbody tr th:only-of-type {\n",
       "        vertical-align: middle;\n",
       "    }\n",
       "\n",
       "    .dataframe tbody tr th {\n",
       "        vertical-align: top;\n",
       "    }\n",
       "\n",
       "    .dataframe thead th {\n",
       "        text-align: right;\n",
       "    }\n",
       "</style>\n",
       "<table border=\"1\" class=\"dataframe\">\n",
       "  <thead>\n",
       "    <tr style=\"text-align: right;\">\n",
       "      <th></th>\n",
       "      <th>BGT North of NE 70th Total</th>\n",
       "      <th>Ped South</th>\n",
       "      <th>Ped North</th>\n",
       "      <th>Bike North</th>\n",
       "      <th>Bike South</th>\n",
       "    </tr>\n",
       "    <tr>\n",
       "      <th>Date</th>\n",
       "      <th></th>\n",
       "      <th></th>\n",
       "      <th></th>\n",
       "      <th></th>\n",
       "      <th></th>\n",
       "    </tr>\n",
       "  </thead>\n",
       "  <tbody>\n",
       "    <tr>\n",
       "      <th>2014-01-21 20:00:00</th>\n",
       "      <td>19.0</td>\n",
       "      <td>4.0</td>\n",
       "      <td>8.0</td>\n",
       "      <td>4.0</td>\n",
       "      <td>3.0</td>\n",
       "    </tr>\n",
       "    <tr>\n",
       "      <th>2014-01-21 21:00:00</th>\n",
       "      <td>9.0</td>\n",
       "      <td>1.0</td>\n",
       "      <td>1.0</td>\n",
       "      <td>5.0</td>\n",
       "      <td>2.0</td>\n",
       "    </tr>\n",
       "    <tr>\n",
       "      <th>2014-01-21 22:00:00</th>\n",
       "      <td>2.0</td>\n",
       "      <td>0.0</td>\n",
       "      <td>0.0</td>\n",
       "      <td>2.0</td>\n",
       "      <td>0.0</td>\n",
       "    </tr>\n",
       "    <tr>\n",
       "      <th>2014-01-21 23:00:00</th>\n",
       "      <td>0.0</td>\n",
       "      <td>0.0</td>\n",
       "      <td>0.0</td>\n",
       "      <td>0.0</td>\n",
       "      <td>0.0</td>\n",
       "    </tr>\n",
       "    <tr>\n",
       "      <th>2014-01-22 00:00:00</th>\n",
       "      <td>0.0</td>\n",
       "      <td>0.0</td>\n",
       "      <td>0.0</td>\n",
       "      <td>0.0</td>\n",
       "      <td>0.0</td>\n",
       "    </tr>\n",
       "    <tr>\n",
       "      <th>2014-01-22 01:00:00</th>\n",
       "      <td>0.0</td>\n",
       "      <td>0.0</td>\n",
       "      <td>0.0</td>\n",
       "      <td>0.0</td>\n",
       "      <td>0.0</td>\n",
       "    </tr>\n",
       "    <tr>\n",
       "      <th>2014-01-22 02:00:00</th>\n",
       "      <td>1.0</td>\n",
       "      <td>0.0</td>\n",
       "      <td>0.0</td>\n",
       "      <td>1.0</td>\n",
       "      <td>0.0</td>\n",
       "    </tr>\n",
       "    <tr>\n",
       "      <th>2014-01-22 03:00:00</th>\n",
       "      <td>0.0</td>\n",
       "      <td>0.0</td>\n",
       "      <td>0.0</td>\n",
       "      <td>0.0</td>\n",
       "      <td>0.0</td>\n",
       "    </tr>\n",
       "    <tr>\n",
       "      <th>2014-01-22 04:00:00</th>\n",
       "      <td>5.0</td>\n",
       "      <td>0.0</td>\n",
       "      <td>0.0</td>\n",
       "      <td>0.0</td>\n",
       "      <td>5.0</td>\n",
       "    </tr>\n",
       "    <tr>\n",
       "      <th>2014-01-22 05:00:00</th>\n",
       "      <td>8.0</td>\n",
       "      <td>0.0</td>\n",
       "      <td>0.0</td>\n",
       "      <td>0.0</td>\n",
       "      <td>8.0</td>\n",
       "    </tr>\n",
       "  </tbody>\n",
       "</table>\n",
       "</div>"
      ],
      "text/plain": [
       "                     BGT North of NE 70th Total  Ped South  Ped North  \\\n",
       "Date                                                                    \n",
       "2014-01-21 20:00:00                        19.0        4.0        8.0   \n",
       "2014-01-21 21:00:00                         9.0        1.0        1.0   \n",
       "2014-01-21 22:00:00                         2.0        0.0        0.0   \n",
       "2014-01-21 23:00:00                         0.0        0.0        0.0   \n",
       "2014-01-22 00:00:00                         0.0        0.0        0.0   \n",
       "2014-01-22 01:00:00                         0.0        0.0        0.0   \n",
       "2014-01-22 02:00:00                         1.0        0.0        0.0   \n",
       "2014-01-22 03:00:00                         0.0        0.0        0.0   \n",
       "2014-01-22 04:00:00                         5.0        0.0        0.0   \n",
       "2014-01-22 05:00:00                         8.0        0.0        0.0   \n",
       "\n",
       "                     Bike North  Bike South  \n",
       "Date                                         \n",
       "2014-01-21 20:00:00         4.0         3.0  \n",
       "2014-01-21 21:00:00         5.0         2.0  \n",
       "2014-01-21 22:00:00         2.0         0.0  \n",
       "2014-01-21 23:00:00         0.0         0.0  \n",
       "2014-01-22 00:00:00         0.0         0.0  \n",
       "2014-01-22 01:00:00         0.0         0.0  \n",
       "2014-01-22 02:00:00         1.0         0.0  \n",
       "2014-01-22 03:00:00         0.0         0.0  \n",
       "2014-01-22 04:00:00         0.0         5.0  \n",
       "2014-01-22 05:00:00         0.0         8.0  "
      ]
     },
     "execution_count": 17,
     "metadata": {},
     "output_type": "execute_result"
    }
   ],
   "source": [
    "run.data.test_df"
   ]
  },
  {
   "cell_type": "code",
   "execution_count": 38,
   "id": "3d223495-d22e-4ef6-8f35-14404ab5dc06",
   "metadata": {},
   "outputs": [],
   "source": [
    "# true = run.data.test_df.iloc[:len(forecasts), [run.data.target_index] * forecasts.shape[1]]\n",
    "# true"
   ]
  },
  {
   "cell_type": "code",
   "execution_count": 28,
   "id": "ea759ca5-efa6-40cb-8883-a9ef9e7e2b83",
   "metadata": {},
   "outputs": [
    {
     "data": {
      "text/html": [
       "<div>\n",
       "<style scoped>\n",
       "    .dataframe tbody tr th:only-of-type {\n",
       "        vertical-align: middle;\n",
       "    }\n",
       "\n",
       "    .dataframe tbody tr th {\n",
       "        vertical-align: top;\n",
       "    }\n",
       "\n",
       "    .dataframe thead th {\n",
       "        text-align: right;\n",
       "    }\n",
       "</style>\n",
       "<table border=\"1\" class=\"dataframe\">\n",
       "  <thead>\n",
       "    <tr style=\"text-align: right;\">\n",
       "      <th></th>\n",
       "      <th>merlion-Arima</th>\n",
       "      <th>merlion-Sarima</th>\n",
       "      <th>merlion-ets</th>\n",
       "      <th>merlion-MSES</th>\n",
       "      <th>merlion-VAR</th>\n",
       "      <th>merlion-RandomForest</th>\n",
       "      <th>merlion-ExtraTrees</th>\n",
       "      <th>merlion-LGBM</th>\n",
       "    </tr>\n",
       "  </thead>\n",
       "  <tbody>\n",
       "    <tr>\n",
       "      <th>0</th>\n",
       "      <td>27.308186</td>\n",
       "      <td>23.203602</td>\n",
       "      <td>27.987034</td>\n",
       "      <td>9.000000</td>\n",
       "      <td>2.112251e+01</td>\n",
       "      <td>17.23</td>\n",
       "      <td>18.76</td>\n",
       "      <td>11.691222</td>\n",
       "    </tr>\n",
       "    <tr>\n",
       "      <th>1</th>\n",
       "      <td>26.324369</td>\n",
       "      <td>18.641327</td>\n",
       "      <td>24.671506</td>\n",
       "      <td>-37.729558</td>\n",
       "      <td>-1.479530e+09</td>\n",
       "      <td>9.33</td>\n",
       "      <td>10.64</td>\n",
       "      <td>8.566090</td>\n",
       "    </tr>\n",
       "    <tr>\n",
       "      <th>2</th>\n",
       "      <td>29.697036</td>\n",
       "      <td>21.111877</td>\n",
       "      <td>24.143480</td>\n",
       "      <td>78.918495</td>\n",
       "      <td>4.809242e+08</td>\n",
       "      <td>4.78</td>\n",
       "      <td>6.04</td>\n",
       "      <td>4.711160</td>\n",
       "    </tr>\n",
       "    <tr>\n",
       "      <th>3</th>\n",
       "      <td>32.124913</td>\n",
       "      <td>23.372508</td>\n",
       "      <td>22.218796</td>\n",
       "      <td>59.918495</td>\n",
       "      <td>-4.769368e+15</td>\n",
       "      <td>2.42</td>\n",
       "      <td>2.88</td>\n",
       "      <td>4.171200</td>\n",
       "    </tr>\n",
       "    <tr>\n",
       "      <th>4</th>\n",
       "      <td>33.444328</td>\n",
       "      <td>25.696529</td>\n",
       "      <td>21.692141</td>\n",
       "      <td>34.918495</td>\n",
       "      <td>1.296853e+17</td>\n",
       "      <td>1.13</td>\n",
       "      <td>2.05</td>\n",
       "      <td>1.214129</td>\n",
       "    </tr>\n",
       "    <tr>\n",
       "      <th>5</th>\n",
       "      <td>33.551618</td>\n",
       "      <td>25.754337</td>\n",
       "      <td>22.910267</td>\n",
       "      <td>39.057679</td>\n",
       "      <td>-1.034308e+23</td>\n",
       "      <td>0.40</td>\n",
       "      <td>0.86</td>\n",
       "      <td>-0.031052</td>\n",
       "    </tr>\n",
       "    <tr>\n",
       "      <th>6</th>\n",
       "      <td>33.262583</td>\n",
       "      <td>25.611999</td>\n",
       "      <td>23.411709</td>\n",
       "      <td>10.268557</td>\n",
       "      <td>4.245118e+24</td>\n",
       "      <td>0.63</td>\n",
       "      <td>1.05</td>\n",
       "      <td>0.959697</td>\n",
       "    </tr>\n",
       "    <tr>\n",
       "      <th>7</th>\n",
       "      <td>32.933635</td>\n",
       "      <td>24.966983</td>\n",
       "      <td>23.358681</td>\n",
       "      <td>96.468395</td>\n",
       "      <td>-1.815380e+30</td>\n",
       "      <td>0.52</td>\n",
       "      <td>0.72</td>\n",
       "      <td>-0.076087</td>\n",
       "    </tr>\n",
       "    <tr>\n",
       "      <th>8</th>\n",
       "      <td>32.767229</td>\n",
       "      <td>25.820408</td>\n",
       "      <td>26.319372</td>\n",
       "      <td>103.468395</td>\n",
       "      <td>7.573097e+31</td>\n",
       "      <td>1.85</td>\n",
       "      <td>1.65</td>\n",
       "      <td>0.535694</td>\n",
       "    </tr>\n",
       "    <tr>\n",
       "      <th>9</th>\n",
       "      <td>32.730330</td>\n",
       "      <td>26.414087</td>\n",
       "      <td>28.457474</td>\n",
       "      <td>131.468395</td>\n",
       "      <td>-4.491779e+37</td>\n",
       "      <td>3.51</td>\n",
       "      <td>3.34</td>\n",
       "      <td>1.295170</td>\n",
       "    </tr>\n",
       "  </tbody>\n",
       "</table>\n",
       "</div>"
      ],
      "text/plain": [
       "   merlion-Arima  merlion-Sarima  merlion-ets  merlion-MSES   merlion-VAR  \\\n",
       "0      27.308186       23.203602    27.987034      9.000000  2.112251e+01   \n",
       "1      26.324369       18.641327    24.671506    -37.729558 -1.479530e+09   \n",
       "2      29.697036       21.111877    24.143480     78.918495  4.809242e+08   \n",
       "3      32.124913       23.372508    22.218796     59.918495 -4.769368e+15   \n",
       "4      33.444328       25.696529    21.692141     34.918495  1.296853e+17   \n",
       "5      33.551618       25.754337    22.910267     39.057679 -1.034308e+23   \n",
       "6      33.262583       25.611999    23.411709     10.268557  4.245118e+24   \n",
       "7      32.933635       24.966983    23.358681     96.468395 -1.815380e+30   \n",
       "8      32.767229       25.820408    26.319372    103.468395  7.573097e+31   \n",
       "9      32.730330       26.414087    28.457474    131.468395 -4.491779e+37   \n",
       "\n",
       "   merlion-RandomForest  merlion-ExtraTrees  merlion-LGBM  \n",
       "0                 17.23               18.76     11.691222  \n",
       "1                  9.33               10.64      8.566090  \n",
       "2                  4.78                6.04      4.711160  \n",
       "3                  2.42                2.88      4.171200  \n",
       "4                  1.13                2.05      1.214129  \n",
       "5                  0.40                0.86     -0.031052  \n",
       "6                  0.63                1.05      0.959697  \n",
       "7                  0.52                0.72     -0.076087  \n",
       "8                  1.85                1.65      0.535694  \n",
       "9                  3.51                3.34      1.295170  "
      ]
     },
     "execution_count": 28,
     "metadata": {},
     "output_type": "execute_result"
    }
   ],
   "source": [
    "forecasts"
   ]
  },
  {
   "cell_type": "code",
   "execution_count": 35,
   "id": "71ad248c-8b58-45f3-984d-237805446643",
   "metadata": {},
   "outputs": [
    {
     "data": {
      "image/png": "[encoded data removed]",
      "text/plain": [
       "<Figure size 842.4x595.44 with 1 Axes>"
      ]
     },
     "metadata": {},
     "output_type": "display_data"
    }
   ],
   "source": [
    "forecasts.plot();"
   ]
  },
  {
   "cell_type": "code",
   "execution_count": 45,
   "id": "de95dc8b-82d4-422d-8f31-33fc856e51d3",
   "metadata": {},
   "outputs": [
    {
     "name": "stderr",
     "output_type": "stream",
     "text": [
      "/tmp/ipykernel_24947/1401642049.py:1: FutureWarning: In a future version of pandas all arguments of DataFrame.drop except for the argument 'labels' will be keyword-only\n",
      "  ax = forecasts.drop(['merlion-VAR'], 1).plot();\n"
     ]
    },
    {
     "data": {
      "image/png": "[encoded data removed]",
      "text/plain": [
       "<Figure size 842.4x595.44 with 1 Axes>"
      ]
     },
     "metadata": {},
     "output_type": "display_data"
    }
   ],
   "source": [
    "ax = forecasts.drop(['merlion-VAR'], 1).plot();"
   ]
  },
  {
   "cell_type": "code",
   "execution_count": 55,
   "id": "28d293e1-f25c-4c60-9b76-617a3bea702d",
   "metadata": {},
   "outputs": [
    {
     "name": "stderr",
     "output_type": "stream",
     "text": [
      "/tmp/ipykernel_24947/3267241234.py:1: FutureWarning: In a future version of pandas all arguments of DataFrame.drop except for the argument 'labels' will be keyword-only\n",
      "  pred = forecasts.drop(['merlion-VAR'], 1)\n"
     ]
    }
   ],
   "source": [
    "pred = forecasts.drop(['merlion-VAR'], 1)\n",
    "true = run.data.test_df.iloc[:, run.data.target_index].reset_index(drop=True)\n",
    "true.name = 'target'"
   ]
  },
  {
   "cell_type": "code",
   "execution_count": 56,
   "id": "3ad899d0-bc9d-4bf8-a50a-91a3295c2d40",
   "metadata": {},
   "outputs": [
    {
     "data": {
      "text/html": [
       "<div>\n",
       "<style scoped>\n",
       "    .dataframe tbody tr th:only-of-type {\n",
       "        vertical-align: middle;\n",
       "    }\n",
       "\n",
       "    .dataframe tbody tr th {\n",
       "        vertical-align: top;\n",
       "    }\n",
       "\n",
       "    .dataframe thead th {\n",
       "        text-align: right;\n",
       "    }\n",
       "</style>\n",
       "<table border=\"1\" class=\"dataframe\">\n",
       "  <thead>\n",
       "    <tr style=\"text-align: right;\">\n",
       "      <th></th>\n",
       "      <th>merlion-Arima</th>\n",
       "      <th>merlion-Sarima</th>\n",
       "      <th>merlion-ets</th>\n",
       "      <th>merlion-MSES</th>\n",
       "      <th>merlion-RandomForest</th>\n",
       "      <th>merlion-ExtraTrees</th>\n",
       "      <th>merlion-LGBM</th>\n",
       "    </tr>\n",
       "  </thead>\n",
       "  <tbody>\n",
       "    <tr>\n",
       "      <th>0</th>\n",
       "      <td>27.308186</td>\n",
       "      <td>23.203602</td>\n",
       "      <td>27.987034</td>\n",
       "      <td>9.000000</td>\n",
       "      <td>17.23</td>\n",
       "      <td>18.76</td>\n",
       "      <td>11.691222</td>\n",
       "    </tr>\n",
       "    <tr>\n",
       "      <th>1</th>\n",
       "      <td>26.324369</td>\n",
       "      <td>18.641327</td>\n",
       "      <td>24.671506</td>\n",
       "      <td>-37.729558</td>\n",
       "      <td>9.33</td>\n",
       "      <td>10.64</td>\n",
       "      <td>8.566090</td>\n",
       "    </tr>\n",
       "    <tr>\n",
       "      <th>2</th>\n",
       "      <td>29.697036</td>\n",
       "      <td>21.111877</td>\n",
       "      <td>24.143480</td>\n",
       "      <td>78.918495</td>\n",
       "      <td>4.78</td>\n",
       "      <td>6.04</td>\n",
       "      <td>4.711160</td>\n",
       "    </tr>\n",
       "    <tr>\n",
       "      <th>3</th>\n",
       "      <td>32.124913</td>\n",
       "      <td>23.372508</td>\n",
       "      <td>22.218796</td>\n",
       "      <td>59.918495</td>\n",
       "      <td>2.42</td>\n",
       "      <td>2.88</td>\n",
       "      <td>4.171200</td>\n",
       "    </tr>\n",
       "    <tr>\n",
       "      <th>4</th>\n",
       "      <td>33.444328</td>\n",
       "      <td>25.696529</td>\n",
       "      <td>21.692141</td>\n",
       "      <td>34.918495</td>\n",
       "      <td>1.13</td>\n",
       "      <td>2.05</td>\n",
       "      <td>1.214129</td>\n",
       "    </tr>\n",
       "    <tr>\n",
       "      <th>5</th>\n",
       "      <td>33.551618</td>\n",
       "      <td>25.754337</td>\n",
       "      <td>22.910267</td>\n",
       "      <td>39.057679</td>\n",
       "      <td>0.40</td>\n",
       "      <td>0.86</td>\n",
       "      <td>-0.031052</td>\n",
       "    </tr>\n",
       "    <tr>\n",
       "      <th>6</th>\n",
       "      <td>33.262583</td>\n",
       "      <td>25.611999</td>\n",
       "      <td>23.411709</td>\n",
       "      <td>10.268557</td>\n",
       "      <td>0.63</td>\n",
       "      <td>1.05</td>\n",
       "      <td>0.959697</td>\n",
       "    </tr>\n",
       "    <tr>\n",
       "      <th>7</th>\n",
       "      <td>32.933635</td>\n",
       "      <td>24.966983</td>\n",
       "      <td>23.358681</td>\n",
       "      <td>96.468395</td>\n",
       "      <td>0.52</td>\n",
       "      <td>0.72</td>\n",
       "      <td>-0.076087</td>\n",
       "    </tr>\n",
       "    <tr>\n",
       "      <th>8</th>\n",
       "      <td>32.767229</td>\n",
       "      <td>25.820408</td>\n",
       "      <td>26.319372</td>\n",
       "      <td>103.468395</td>\n",
       "      <td>1.85</td>\n",
       "      <td>1.65</td>\n",
       "      <td>0.535694</td>\n",
       "    </tr>\n",
       "    <tr>\n",
       "      <th>9</th>\n",
       "      <td>32.730330</td>\n",
       "      <td>26.414087</td>\n",
       "      <td>28.457474</td>\n",
       "      <td>131.468395</td>\n",
       "      <td>3.51</td>\n",
       "      <td>3.34</td>\n",
       "      <td>1.295170</td>\n",
       "    </tr>\n",
       "  </tbody>\n",
       "</table>\n",
       "</div>"
      ],
      "text/plain": [
       "   merlion-Arima  merlion-Sarima  merlion-ets  merlion-MSES  \\\n",
       "0      27.308186       23.203602    27.987034      9.000000   \n",
       "1      26.324369       18.641327    24.671506    -37.729558   \n",
       "2      29.697036       21.111877    24.143480     78.918495   \n",
       "3      32.124913       23.372508    22.218796     59.918495   \n",
       "4      33.444328       25.696529    21.692141     34.918495   \n",
       "5      33.551618       25.754337    22.910267     39.057679   \n",
       "6      33.262583       25.611999    23.411709     10.268557   \n",
       "7      32.933635       24.966983    23.358681     96.468395   \n",
       "8      32.767229       25.820408    26.319372    103.468395   \n",
       "9      32.730330       26.414087    28.457474    131.468395   \n",
       "\n",
       "   merlion-RandomForest  merlion-ExtraTrees  merlion-LGBM  \n",
       "0                 17.23               18.76     11.691222  \n",
       "1                  9.33               10.64      8.566090  \n",
       "2                  4.78                6.04      4.711160  \n",
       "3                  2.42                2.88      4.171200  \n",
       "4                  1.13                2.05      1.214129  \n",
       "5                  0.40                0.86     -0.031052  \n",
       "6                  0.63                1.05      0.959697  \n",
       "7                  0.52                0.72     -0.076087  \n",
       "8                  1.85                1.65      0.535694  \n",
       "9                  3.51                3.34      1.295170  "
      ]
     },
     "execution_count": 56,
     "metadata": {},
     "output_type": "execute_result"
    }
   ],
   "source": [
    "pred"
   ]
  },
  {
   "cell_type": "code",
   "execution_count": 57,
   "id": "b59d0617-5b20-4c74-8d89-9883d5a28e1f",
   "metadata": {},
   "outputs": [
    {
     "data": {
      "text/plain": [
       "0    19.0\n",
       "1     9.0\n",
       "2     2.0\n",
       "3     0.0\n",
       "4     0.0\n",
       "5     0.0\n",
       "6     1.0\n",
       "7     0.0\n",
       "8     5.0\n",
       "9     8.0\n",
       "Name: target, dtype: float64"
      ]
     },
     "execution_count": 57,
     "metadata": {},
     "output_type": "execute_result"
    }
   ],
   "source": [
    "true"
   ]
  },
  {
   "cell_type": "code",
   "execution_count": 65,
   "id": "3e5a7eac-dbbc-412d-a742-58af19b54da8",
   "metadata": {},
   "outputs": [
    {
     "name": "stderr",
     "output_type": "stream",
     "text": [
      "/tmp/ipykernel_24947/922994971.py:1: FutureWarning: In a future version of pandas all arguments of concat except for the argument 'objs' will be keyword-only\n",
      "  pd.concat((pred, true), 1).plot(style=['-' for _ in pred.columns] + ['-*'], linewidth=2);\n"
     ]
    },
    {
     "data": {
      "image/png": "[encoded data removed]",
      "text/plain": [
       "<Figure size 842.4x595.44 with 1 Axes>"
      ]
     },
     "metadata": {},
     "output_type": "display_data"
    }
   ],
   "source": [
    "pd.concat((pred, true), 1).plot(style=['-' for _ in pred.columns] + ['-*'], linewidth=2);"
   ]
  },
  {
   "cell_type": "code",
   "execution_count": 21,
   "id": "ee4f0666-db37-4fde-a9d0-9622647b2ef1",
   "metadata": {},
   "outputs": [
    {
     "data": {
      "text/plain": [
       "<generator object MetaflowObject._filtered_children at 0x7f57a9b6cb30>"
      ]
     },
     "execution_count": 21,
     "metadata": {},
     "output_type": "execute_result"
    }
   ],
   "source": [
    "steps = run.steps()\n",
    "steps"
   ]
  },
  {
   "cell_type": "code",
   "execution_count": 22,
   "id": "30e94ce3-6854-48f0-9d56-c4c68b670473",
   "metadata": {},
   "outputs": [
    {
     "name": "stdout",
     "output_type": "stream",
     "text": [
      "Step('ForecastingFlow/1638566495748360/end')\n",
      "Step('ForecastingFlow/1638566495748360/join')\n",
      "Step('ForecastingFlow/1638566495748360/run_neuralprophet')\n",
      "Step('ForecastingFlow/1638566495748360/run_kats')\n",
      "Step('ForecastingFlow/1638566495748360/run_gluonts')\n",
      "Step('ForecastingFlow/1638566495748360/run_merlion')\n",
      "Step('ForecastingFlow/1638566495748360/start')\n"
     ]
    }
   ],
   "source": [
    "for s in run.steps():\n",
    "    print(s)"
   ]
  },
  {
   "cell_type": "code",
   "execution_count": 23,
   "id": "7fd04b6c-53d7-47cb-be8b-4aed89fa47d6",
   "metadata": {},
   "outputs": [
    {
     "data": {
      "text/plain": [
       "{'_metaflow': <metaflow.client.core.Metaflow at 0x7f57a1a79b50>,\n",
       " '_parent': Run('ForecastingFlow/1638566495748360'),\n",
       " '_path_components': None,\n",
       " '_attempt': None,\n",
       " '_object': {'run_number': '1638566495748360',\n",
       "  'step_name': 'start',\n",
       "  'flow_id': 'ForecastingFlow',\n",
       "  'user_name': 'jimmie',\n",
       "  'tags': [],\n",
       "  'system_tags': ['runtime:dev',\n",
       "   'metaflow_version:2.4.3.post11+git421e9d9',\n",
       "   'user:jimmie',\n",
       "   'date:2021-12-03',\n",
       "   'python_version:3.8.12'],\n",
       "  'ts_epoch': 1638566495760},\n",
       " '_pathspec': 'ForecastingFlow/1638566495748360/start',\n",
       " 'id': 'start',\n",
       " '_created_at': datetime.datetime(2021, 12, 3, 15, 21, 35, 760000),\n",
       " '_tags': frozenset({'date:2021-12-03',\n",
       "            'metaflow_version:2.4.3.post11+git421e9d9',\n",
       "            'python_version:3.8.12',\n",
       "            'runtime:dev',\n",
       "            'user:jimmie'})}"
      ]
     },
     "execution_count": 23,
     "metadata": {},
     "output_type": "execute_result"
    }
   ],
   "source": [
    "vars(s)"
   ]
  },
  {
   "cell_type": "code",
   "execution_count": 24,
   "id": "83c1c41d-0b99-4e50-b71a-7cc72fcf8755",
   "metadata": {},
   "outputs": [
    {
     "data": {
      "text/plain": [
       "datetime.datetime(2021, 12, 3, 15, 21, 35, 760000)"
      ]
     },
     "execution_count": 24,
     "metadata": {},
     "output_type": "execute_result"
    }
   ],
   "source": [
    "s.created_at"
   ]
  },
  {
   "cell_type": "code",
   "execution_count": 25,
   "id": "240adcda-2383-41df-adef-5c86212e8f57",
   "metadata": {},
   "outputs": [
    {
     "data": {
      "text/plain": [
       "datetime.datetime(2021, 12, 3, 15, 21, 37, 985000)"
      ]
     },
     "execution_count": 25,
     "metadata": {},
     "output_type": "execute_result"
    }
   ],
   "source": [
    "s.finished_at"
   ]
  },
  {
   "cell_type": "code",
   "execution_count": 26,
   "id": "fcbf4966-3624-475d-8a38-e4fb3138e6ae",
   "metadata": {},
   "outputs": [
    {
     "data": {
      "text/plain": [
       "Task('ForecastingFlow/1638566495748360/start/1')"
      ]
     },
     "execution_count": 26,
     "metadata": {},
     "output_type": "execute_result"
    }
   ],
   "source": [
    "s.task"
   ]
  },
  {
   "cell_type": "code",
   "execution_count": 27,
   "id": "4088acbe-469c-4754-8c73-ae6ecddfa0f5",
   "metadata": {},
   "outputs": [],
   "source": [
    "s.environment_info"
   ]
  },
  {
   "cell_type": "code",
   "execution_count": null,
   "id": "79268227-0e84-4010-aa42-c2f01f98cb2a",
   "metadata": {},
   "outputs": [],
   "source": []
  }
 ],
 "metadata": {
  "kernelspec": {
   "display_name": "Python [conda env:metaflow-tabular]",
   "language": "python",
   "name": "conda-env-metaflow-tabular-py"
  },
  "language_info": {
   "codemirror_mode": {
    "name": "ipython",
    "version": 3
   },
   "file_extension": ".py",
   "mimetype": "text/x-python",
   "name": "python",
   "nbconvert_exporter": "python",
   "pygments_lexer": "ipython3",
   "version": "3.8.12"
  }
 },
 "nbformat": 4,
 "nbformat_minor": 5
}
